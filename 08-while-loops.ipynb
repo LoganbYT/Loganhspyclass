{
 "cells": [
  {
   "cell_type": "markdown",
   "metadata": {},
   "source": [
    "# 08 - While Loops\n",
    "> From W3Schools:\n",
    ">\n",
    "> \"With the `while` loop we can execute a set of statements as long as a condition is true.\""
   ]
  },
  {
   "cell_type": "markdown",
   "metadata": {},
   "source": [
    "### Video and Notes:\n",
    "> Video: https://www.youtube.com/watch?v=dHANJ4l6fwA\n",
    ">\n",
    "> Notes: https://www.w3schools.com/python/python_while_loops.asp"
   ]
  },
  {
   "cell_type": "markdown",
   "metadata": {},
   "source": [
    "## To Complete Your Notes:\n",
    "1. Watch the video.\n",
    "2. Review the Notes above.\n",
    "3. Copy the `while` loops from W3Schools below\n",
    "4. Create your own `while` loops below"
   ]
  },
  {
   "cell_type": "markdown",
   "metadata": {},
   "source": [
    "### 3. Copy the `while` loops from W3Schools below"
   ]
  },
  {
   "cell_type": "code",
   "execution_count": null,
   "metadata": {},
   "outputs": [],
   "source": [
    "# Example 1\n",
    "\n",
    "somebool = True\n",
    "\n",
    "while somebool:\n",
    "    print(\"In this loop, yo\")\n",
    "    somebool = False\n",
    "print(\"Out of the loop, again\")"
   ]
  },
  {
   "cell_type": "code",
   "execution_count": null,
   "metadata": {},
   "outputs": [],
   "source": [
    "# The `while` loop\n",
    "i = 1\n",
    "while i < 6:\n",
    "  print(i)\n",
    "  i += 1"
   ]
  },
  {
   "cell_type": "code",
   "execution_count": null,
   "metadata": {},
   "outputs": [],
   "source": [
    "# The `break` statement\n",
    "i = 1\n",
    "while i < 6:\n",
    "  print(i)\n",
    "  if i == 3:\n",
    "    break\n",
    "  i += 1 \n"
   ]
  },
  {
   "cell_type": "code",
   "execution_count": null,
   "metadata": {},
   "outputs": [],
   "source": [
    "# The `continue` statement\n",
    "i = 0\n",
    "while i < 6:\n",
    "  i += 1\n",
    "  if i == 3:\n",
    "    continue\n",
    "  print(i)"
   ]
  },
  {
   "cell_type": "code",
   "execution_count": null,
   "metadata": {},
   "outputs": [],
   "source": [
    "# The `else` statement\n",
    " i = 1\n",
    "while i < 6:\n",
    "  print(i)\n",
    "  i += 1\n",
    "else:\n",
    "  print(\"i is no longer less than 6\")"
   ]
  },
  {
   "cell_type": "markdown",
   "metadata": {},
   "source": [
    "### 4. Create your own `while` loops below.\n",
    "> Please create your own `while` loops.\n",
    ">\n",
    "> Please create at least three different `while` loops.\n",
    ">\n",
    "> Try and use different techniques from this lesson and the lessons before."
   ]
  },
  {
   "cell_type": "code",
   "execution_count": null,
   "metadata": {},
   "outputs": [],
   "source": [
    "# Example Loop\n",
    "count = 0\n",
    "mybool = True\n",
    "secrets = {}\n",
    "\n",
    "while mybool:\n",
    "    secrets[count] = input(\"Tell me a secret: \")\n",
    "    count += 1\n",
    "    if count > 3:\n",
    "        mybool = False\n",
    "\n",
    "for key in secrets:\n",
    "    print(secrets[key])"
   ]
  },
  {
   "cell_type": "code",
   "execution_count": null,
   "metadata": {},
   "outputs": [],
   "source": [
    "# First Loop\n",
    "mybool = True\n",
    "while mybool == True: #If bool is true\n",
    "    for x in range(10): #Prints true 10 times\n",
    "        print(True)\n",
    "    mybool = False #Sets it too false\n",
    "\n",
    "while mybool == False: #Switches to printing False 10 times\n",
    "    for x in range(10):\n",
    "        print(False)\n",
    "    mybool = True #After 10 times goes mybool toggles to True\n",
    "\n"
   ]
  },
  {
   "cell_type": "code",
   "execution_count": null,
   "metadata": {},
   "outputs": [],
   "source": [
    "# Second Loop\n",
    "import random\n",
    "mynum = 0.0\n",
    "while True: #Does forever\n",
    "    rannum = random.uniform(0,10) #Sets ranum to random number\n",
    "    if mynum + rannum < 10: #If mynum + ranum is less then 10 3.\n",
    "        mynum = mynum + rannum #Sets mynum too rannum + previous mynum 4. #Line 3 and 4 adds the random number until it reaches 10.\n",
    "        print(mynum) #Prints mynum\n",
    "\n",
    "\n",
    "    \n",
    "\n"
   ]
  },
  {
   "cell_type": "code",
   "execution_count": null,
   "metadata": {},
   "outputs": [],
   "source": [
    "# Third Loop\n",
    "import random \n",
    "import math\n",
    "string = \"\"\n",
    "\n",
    "while len(string) <= 10:\n",
    "    strlenvar = str(math.ceil(random.uniform(0,10)))\n",
    "    string = string + strlenvar\n",
    "    print(string)\n",
    "\n"
   ]
  },
  {
   "cell_type": "code",
   "execution_count": null,
   "metadata": {},
   "outputs": [],
   "source": [
    "\"\"\"For extra credit: try and create a `while` loop that uses the Random module\n",
    "to generate random numbers within a range of integers and breaks away when a certain\n",
    "integer is returned. Then print out the number of loops that occurred.\"\"\"\n"
   ]
  }
 ],
 "metadata": {
  "kernelspec": {
   "display_name": "Python 3.9.12 ('base')",
   "language": "python",
   "name": "python3"
  },
  "language_info": {
   "codemirror_mode": {
    "name": "ipython",
    "version": 3
   },
   "file_extension": ".py",
   "mimetype": "text/x-python",
   "name": "python",
   "nbconvert_exporter": "python",
   "pygments_lexer": "ipython3",
   "version": "3.9.12"
  },
  "orig_nbformat": 4,
  "vscode": {
   "interpreter": {
    "hash": "1a5ce88e651f61be5c839edd228e31d735191f1c27ef034e85c5d847ed857e96"
   }
  }
 },
 "nbformat": 4,
 "nbformat_minor": 2
}
