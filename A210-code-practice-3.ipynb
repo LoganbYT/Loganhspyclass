{
 "cells": [
  {
   "cell_type": "markdown",
   "metadata": {},
   "source": [
    "# A2.10 - Code Practice III\n",
    ">\n",
    "> If Statements\n",
    ">"
   ]
  },
  {
   "cell_type": "code",
   "execution_count": null,
   "metadata": {},
   "outputs": [],
   "source": [
    "import random\n",
    "import math\n",
    "numvar = random.randint(4,30)\n",
    "if numvar == 10:\n",
    "    print(\"pool\")\n",
    "elif numvar == 5:\n",
    "    print(\"hall\")\n",
    "else:\n",
    "    lenodlen = math.ceil((numvar/3))\n",
    "    print(\"lenod\" + \" = \" + str(lenodlen))\n"
   ]
  },
  {
   "cell_type": "code",
   "execution_count": null,
   "metadata": {},
   "outputs": [],
   "source": [
    "\n",
    "\n",
    "if lenodlen == 4:\n",
    "    print(\"idksmlomal\")\n",
    "if numvar == lenodlen:\n",
    "    print(\"idkhowlollen\")\n",
    "if lenodlen == 10:\n",
    "    print(\"idkmilen\")\n",
    "if lenodlen == 2:\n",
    "    print(\"idkmicl\")"
   ]
  }
 ],
 "metadata": {
  "kernelspec": {
   "display_name": "Python 3.9.12 ('base')",
   "language": "python",
   "name": "python3"
  },
  "language_info": {
   "name": "python",
   "version": "3.9.12"
  },
  "orig_nbformat": 4,
  "vscode": {
   "interpreter": {
    "hash": "e0942d097a3d85f7f7e6db728cda1faec53ae278c49874135db056ee1e5e1978"
   }
  }
 },
 "nbformat": 4,
 "nbformat_minor": 2
}
