{
 "cells": [
  {
   "cell_type": "markdown",
   "metadata": {},
   "source": [
    "# Quiz Review\n",
    ">\n",
    ">Data Types, Numbers, Strings, Lists, Dictionaries, and Booleans\n",
    ">"
   ]
  },
  {
   "cell_type": "markdown",
   "metadata": {},
   "source": [
    "## Data Types\n",
    "> What function can you use to find the type of an object?"
   ]
  },
  {
   "cell_type": "code",
   "execution_count": 8,
   "metadata": {},
   "outputs": [
    {
     "data": {
      "text/plain": [
       "int"
      ]
     },
     "execution_count": 8,
     "metadata": {},
     "output_type": "execute_result"
    }
   ],
   "source": [
    "## Write code here\n",
    "var = (10)\n",
    "type(var)"
   ]
  },
  {
   "cell_type": "markdown",
   "metadata": {},
   "source": [
    "## Numbers\n",
    "> Create the following:"
   ]
  },
  {
   "cell_type": "code",
   "execution_count": 13,
   "metadata": {},
   "outputs": [
    {
     "data": {
      "text/plain": [
       "31.84713375796178"
      ]
     },
     "execution_count": 13,
     "metadata": {},
     "output_type": "execute_result"
    }
   ],
   "source": [
    "numVAR = 10 #Creates var equal too 10\n",
    "fltVAR = 10.0 # Creates float equal too 10.0\n",
    "\n",
    "numVAR = float(numVAR) #Changes numVAR too float permanently by setting it to equal it's self which was temporarly turned into a float.\n",
    "\n",
    "fltVAR = int(fltVAR ) #Changes fltVAR too int permanently by setting it to equal it's self which was temporarly turned into a int.\n",
    "\n",
    "(numVAR*10)/3.14 # Multiplies numVAR by 10 then divides by 3.14"
   ]
  },
  {
   "cell_type": "markdown",
   "metadata": {},
   "source": [
    "## Strings\n",
    "> Create the following:"
   ]
  },
  {
   "cell_type": "code",
   "execution_count": 10,
   "metadata": {},
   "outputs": [
    {
     "data": {
      "text/plain": [
       "['inn', 'it funny']"
      ]
     },
     "execution_count": 10,
     "metadata": {},
     "output_type": "execute_result"
    }
   ],
   "source": [
    "# Create a variable 'strVar' to hold a string that contains an apostrophe and spaces\n",
    "strVar = (\"inn'it funny\")\n",
    "\n",
    "# Split this variable on the spaces\n",
    "strVar.split(\" \")\n",
    "\n",
    "# Split this variable on the apostrophe\n",
    "strVar.split(\"'\")"
   ]
  },
  {
   "cell_type": "markdown",
   "metadata": {},
   "source": [
    "## Lists\n",
    "> Create the following:"
   ]
  },
  {
   "cell_type": "code",
   "execution_count": 11,
   "metadata": {},
   "outputs": [
    {
     "name": "stdout",
     "output_type": "stream",
     "text": [
      "[3, 2, 1]\n"
     ]
    }
   ],
   "source": [
    "# Create a variable 'lstVar' to hold an empty list\n",
    "lstVar = []\n",
    "\n",
    "\n",
    "# Append to this list three number type objects\n",
    "lstVar.append(1)\n",
    "lstVar.append(2)\n",
    "lstVar.append(3)\n",
    "\n",
    "# Create a variable revlstVar to hold lstVar in reverse\n",
    "revlstVar = lstVar[::-1]\n",
    "print(revlstVar)\n"
   ]
  },
  {
   "cell_type": "markdown",
   "metadata": {},
   "source": [
    "## Dictionaries\n",
    "> Create the following:"
   ]
  },
  {
   "cell_type": "code",
   "execution_count": 57,
   "metadata": {},
   "outputs": [
    {
     "name": "stdout",
     "output_type": "stream",
     "text": [
      "{'key1': [1, 2, 3], 'key2': \"inn'it funny\", 'key3': 10, 'key4': 10.0, 'Key5': 10, 'Key6': 10}\n"
     ]
    },
    {
     "ename": "AttributeError",
     "evalue": "'list' object has no attribute 'upper'",
     "output_type": "error",
     "traceback": [
      "\u001b[0;31m---------------------------------------------------------------------------\u001b[0m",
      "\u001b[0;31mAttributeError\u001b[0m                            Traceback (most recent call last)",
      "\u001b[1;32m/Users/logan/Downloads/quiz-review.ipynb Cell 11\u001b[0m in \u001b[0;36m<cell line: 13>\u001b[0;34m()\u001b[0m\n\u001b[1;32m      <a href='vscode-notebook-cell:/Users/logan/Downloads/quiz-review.ipynb#X13sZmlsZQ%3D%3D?line=7'>8</a>\u001b[0m \u001b[39mprint\u001b[39m(dctVar)\n\u001b[1;32m     <a href='vscode-notebook-cell:/Users/logan/Downloads/quiz-review.ipynb#X13sZmlsZQ%3D%3D?line=11'>12</a>\u001b[0m \u001b[39m# Call the 'strVar' from inside the dictionary and call the Upper method on it\u001b[39;00m\n\u001b[0;32m---> <a href='vscode-notebook-cell:/Users/logan/Downloads/quiz-review.ipynb#X13sZmlsZQ%3D%3D?line=12'>13</a>\u001b[0m dctVar[\u001b[39m\"\u001b[39;49m\u001b[39mkey1\u001b[39;49m\u001b[39m\"\u001b[39;49m]\u001b[39m.\u001b[39;49mupper\n",
      "\u001b[0;31mAttributeError\u001b[0m: 'list' object has no attribute 'upper'"
     ]
    }
   ],
   "source": [
    "# Create a variable 'dctVar' to hold an empty dictionary\n",
    "dctVar = {}\n",
    "\n",
    "# Add each variable created above and set them each to their own keys\n",
    "\n",
    "dctVar = {\"key1\": lstVar, \"key2\": strVar, \"key3\": var, \"key4\": numVAR, \"Key5\": fltVAR, \"Key6\": var}\n",
    "\n",
    "print(dctVar)\n",
    "\n",
    "\n",
    "\n",
    "# Call the 'strVar' from inside the dictionary and call the Upper method on it\n",
    "dctVar[2].upper\n"
   ]
  }
 ],
 "metadata": {
  "kernelspec": {
   "display_name": "Python 3.9.12 ('base')",
   "language": "python",
   "name": "python3"
  },
  "language_info": {
   "codemirror_mode": {
    "name": "ipython",
    "version": 3
   },
   "file_extension": ".py",
   "mimetype": "text/x-python",
   "name": "python",
   "nbconvert_exporter": "python",
   "pygments_lexer": "ipython3",
   "version": "3.9.12"
  },
  "orig_nbformat": 4,
  "vscode": {
   "interpreter": {
    "hash": "e0942d097a3d85f7f7e6db728cda1faec53ae278c49874135db056ee1e5e1978"
   }
  }
 },
 "nbformat": 4,
 "nbformat_minor": 2
}
