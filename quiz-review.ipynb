{
 "cells": [
  {
   "cell_type": "markdown",
   "metadata": {},
   "source": [
    "# Quiz Review\n",
    ">\n",
    ">Data Types, Numbers, Strings, Lists, Dictionaries, and Booleans\n",
    ">"
   ]
  },
  {
   "cell_type": "markdown",
   "metadata": {},
   "source": [
    "## Data Types\n",
    "> What function can you use to find the type of an object?"
   ]
  },
  {
   "cell_type": "code",
   "execution_count": 2,
   "metadata": {},
   "outputs": [
    {
     "data": {
      "text/plain": [
       "int"
      ]
     },
     "execution_count": 2,
     "metadata": {},
     "output_type": "execute_result"
    }
   ],
   "source": [
    "## Write code here\n",
    "var = (10)\n",
    "type(var)"
   ]
  },
  {
   "cell_type": "markdown",
   "metadata": {},
   "source": [
    "## Numbers\n",
    "> Create the following:"
   ]
  },
  {
   "cell_type": "code",
   "execution_count": 60,
   "metadata": {},
   "outputs": [
    {
     "name": "stdout",
     "output_type": "stream",
     "text": [
      "10.0\n",
      "10.0\n"
     ]
    },
    {
     "data": {
      "text/plain": [
       "31.84713375796178"
      ]
     },
     "execution_count": 60,
     "metadata": {},
     "output_type": "execute_result"
    }
   ],
   "source": [
    "numVAR = 10 #Creates var equal too 10\n",
    "fltVAR = 10.0 # Creates float equal too 10.0\n",
    "\n",
    "numVAR = float(numVAR) #Changes numVAR too float permanently by setting it to equal it's self which was temporarly turned into a float.\n",
    "\n",
    "fltVAR = int(fltVAR ) #Changes fltVAR too int permanently by setting it to equal it's self which was temporarly turned into a int.\n",
    "\n",
    "(numVAR*10)/3.14 # Multiplies numVAR by 10 then divides by 3.14"
   ]
  },
  {
   "cell_type": "markdown",
   "metadata": {},
   "source": [
    "## Strings\n",
    "> Create the following:"
   ]
  },
  {
   "cell_type": "code",
   "execution_count": 109,
   "metadata": {},
   "outputs": [
    {
     "data": {
      "text/plain": [
       "['inn', 'it funny']"
      ]
     },
     "execution_count": 109,
     "metadata": {},
     "output_type": "execute_result"
    }
   ],
   "source": [
    "# Create a variable 'strVar' to hold a string that contains an apostrophe and spaces\n",
    "strVar = (\"inn'it funny\")\n",
    "\n",
    "# Split this variable on the spaces\n",
    "strVar.split(\" \")\n",
    "\n",
    "# Split this variable on the apostrophe\n",
    "strVar.split(\"'\")"
   ]
  },
  {
   "cell_type": "markdown",
   "metadata": {},
   "source": [
    "## Lists\n",
    "> Create the following:"
   ]
  },
  {
   "cell_type": "code",
   "execution_count": 252,
   "metadata": {},
   "outputs": [
    {
     "name": "stdout",
     "output_type": "stream",
     "text": [
      "(1, 2, 3)\n"
     ]
    }
   ],
   "source": [
    "# Create a variable 'lstVar' to hold an empty list\n",
    "lstVar = []\n",
    "\n",
    "# Append to this list three number type objects\n",
    "broke = (1,2,3)\n",
    "lstVar.append(broke)\n",
    "\n",
    "# Create a variable revlstVar to hold lstVar in reverse\n",
    "print(lstVar[-1])"
   ]
  },
  {
   "cell_type": "markdown",
   "metadata": {},
   "source": [
    "## Dictionaries\n",
    "> Create the following:"
   ]
  },
  {
   "cell_type": "code",
   "execution_count": null,
   "metadata": {},
   "outputs": [],
   "source": [
    "# Create a variable 'dctVar' to hold an empty dictionary\n",
    "\n",
    "# Add each variable created above and set them each to their own keys\n",
    "\n",
    "# Call the 'strVar' from inside the dictionary and call the Upper method on it"
   ]
  }
 ],
 "metadata": {
  "kernelspec": {
   "display_name": "Python 3.9.12 ('base')",
   "language": "python",
   "name": "python3"
  },
  "language_info": {
   "name": "python",
   "version": "3.9.12"
  },
  "orig_nbformat": 4,
  "vscode": {
   "interpreter": {
    "hash": "e0942d097a3d85f7f7e6db728cda1faec53ae278c49874135db056ee1e5e1978"
   }
  }
 },
 "nbformat": 4,
 "nbformat_minor": 2
}
