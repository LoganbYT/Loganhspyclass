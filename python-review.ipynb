{
 "cells": [
  {
   "cell_type": "markdown",
   "metadata": {},
   "source": [
    "# if statements practice"
   ]
  },
  {
   "cell_type": "code",
   "execution_count": null,
   "metadata": {},
   "outputs": [],
   "source": [
    "myvar = True"
   ]
  },
  {
   "cell_type": "code",
   "execution_count": null,
   "metadata": {},
   "outputs": [],
   "source": [
    "# This if statement\n",
    "if myvar:\n",
    "    print(myvar)"
   ]
  },
  {
   "cell_type": "code",
   "execution_count": null,
   "metadata": {},
   "outputs": [],
   "source": [
    "# And this if statement are the same!\n",
    "if myvar == True:\n",
    "    print(myvar)"
   ]
  },
  {
   "cell_type": "code",
   "execution_count": null,
   "metadata": {},
   "outputs": [],
   "source": [
    "# This statement is also the same so long as myvar is True!\n",
    "if myvar:\n",
    "    print(\"this is true\")\n",
    "else:\n",
    "    print(\"this is false :( \")"
   ]
  },
  {
   "cell_type": "code",
   "execution_count": null,
   "metadata": {},
   "outputs": [],
   "source": [
    "# Maybe myvar can never be True! \n",
    "# We can get around changing the variable by declaring `not`\n",
    "if not myvar:\n",
    "    print(\"this is false\")\n",
    "else:\n",
    "    print(\"this is \" + str(myvar))\n"
   ]
  },
  {
   "cell_type": "code",
   "execution_count": null,
   "metadata": {},
   "outputs": [],
   "source": [
    "# The identation shows python what to read\n",
    "if not myvar:\n",
    "    print(\"this is false\")\n",
    "else:\n",
    "    print(\"this is \" + str(myvar))\n",
    "print(\"outside of if statement\")"
   ]
  },
  {
   "cell_type": "code",
   "execution_count": null,
   "metadata": {},
   "outputs": [],
   "source": [
    "myvar = 1"
   ]
  },
  {
   "cell_type": "code",
   "execution_count": null,
   "metadata": {},
   "outputs": [],
   "source": [
    "# We can declare multiple elif statements (if-elif-elif-else)\n",
    "# Else will always catch anything not declared in the if and elif statement\n",
    "if myvar == 1:\n",
    "    print(\"myvar  is 1\")\n",
    "elif myvar == 2: \n",
    "    pass\n",
    "elif myvar == 3:  \n",
    "    pass\n",
    "else:\n",
    "    print(\"my var is 2\")"
   ]
  },
  {
   "cell_type": "code",
   "execution_count": null,
   "metadata": {},
   "outputs": [],
   "source": [
    "# We can use if and modulo to find even and odd numbers!\n",
    "num = int(input(\"Pick a number\"))\n",
    "\n",
    "if num % 2 == 0:\n",
    "    print(\"this number is even\")\n",
    "else:\n",
    "    print(\"this number is odd\")\n"
   ]
  },
  {
   "cell_type": "code",
   "execution_count": null,
   "metadata": {},
   "outputs": [],
   "source": [
    "# Sometimes there are only two possible outcomes!\n",
    "# In that case, no need to use elif\n",
    "# Else will cover the second outcome and we don't need to write it out\n",
    "\n",
    "if myvar == 2:\n",
    "    pass\n",
    "else:\n",
    "    print(\"1\")"
   ]
  },
  {
   "cell_type": "markdown",
   "metadata": {},
   "source": [
    "# for loops practice\n"
   ]
  },
  {
   "cell_type": "code",
   "execution_count": null,
   "metadata": {},
   "outputs": [],
   "source": [
    "# for string\n",
    "string = \"Logan\"\n",
    "\n",
    "for x in string:\n",
    "    print(x)"
   ]
  },
  {
   "cell_type": "code",
   "execution_count": null,
   "metadata": {},
   "outputs": [],
   "source": [
    "# for lst\n",
    "\n",
    "lst = [1,2,3,4]\n",
    "\n",
    "for item in lst:\n",
    "    print(item)"
   ]
  },
  {
   "cell_type": "code",
   "execution_count": null,
   "metadata": {},
   "outputs": [],
   "source": [
    "# for dct\n",
    "\n",
    "dct = {\"key\":1, \"string2\":2}\n",
    "\n",
    "for key in dct:\n",
    "    val = dct[key]\n",
    "    print(val)\n"
   ]
  },
  {
   "cell_type": "code",
   "execution_count": null,
   "metadata": {},
   "outputs": [],
   "source": [
    "# for range\n",
    "\n",
    "\n",
    "for x in range(10):\n",
    "    print(\"print\" (x) (lst))"
   ]
  },
  {
   "cell_type": "markdown",
   "metadata": {},
   "source": [
    "# while loops practice\n"
   ]
  },
  {
   "cell_type": "code",
   "execution_count": null,
   "metadata": {},
   "outputs": [],
   "source": [
    "# while True\n",
    "mybool = True\n",
    "while mybool:\n",
    "    print(\"inside while loop\")\n",
    "    mybool = False\n",
    "print(\"outside of loop\")"
   ]
  },
  {
   "cell_type": "code",
   "execution_count": null,
   "metadata": {},
   "outputs": [],
   "source": [
    "# while count\n",
    "count = 0\n",
    "while count > 10:\n",
    "    print(f\"count is {count}\")\n",
    "    count += 1"
   ]
  }
 ],
 "metadata": {
  "kernelspec": {
   "display_name": "Python 3.9.12 ('base')",
   "language": "python",
   "name": "python3"
  },
  "language_info": {
   "codemirror_mode": {
    "name": "ipython",
    "version": 3
   },
   "file_extension": ".py",
   "mimetype": "text/x-python",
   "name": "python",
   "nbconvert_exporter": "python",
   "pygments_lexer": "ipython3",
   "version": "3.9.12"
  },
  "orig_nbformat": 4,
  "vscode": {
   "interpreter": {
    "hash": "b873ff1bdb436288997389ad0554016b476263221ef541de4710294d3256898e"
   }
  }
 },
 "nbformat": 4,
 "nbformat_minor": 2
}
